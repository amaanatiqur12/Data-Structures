{
 "cells": [
  {
   "cell_type": "markdown",
   "id": "2714e651",
   "metadata": {},
   "source": [
    "# Data Structure Array "
   ]
  },
  {
   "cell_type": "markdown",
   "id": "f40aef14",
   "metadata": {},
   "source": [
    "#### Problem 1 => https://leetcode.com/problems/move-zeroes/description/"
   ]
  },
  {
   "cell_type": "code",
   "execution_count": null,
   "id": "f15ebe28",
   "metadata": {
    "scrolled": false
   },
   "outputs": [],
   "source": [
    "nums = [0,1,0,3,12]\n",
    "j = 0\n",
    "for i in range(len(nums)):\n",
    "    if nums[i] != 0:\n",
    "        nums[i], nums[j] = nums[j], nums[i]\n",
    "        j += 1\n",
    "print(nums)        "
   ]
  },
  {
   "cell_type": "markdown",
   "id": "9a7a126e",
   "metadata": {},
   "source": [
    "output => [1, 3, 12, 0, 0]"
   ]
  },
  {
   "cell_type": "code",
   "execution_count": null,
   "id": "8836f384",
   "metadata": {},
   "outputs": [],
   "source": [
    "nums = [0,1,0,3,12]\n",
    "j = 0\n",
    "for i in range(len(nums)):\n",
    "    if nums[i]!=0:\n",
    "        nums[j]=nums[i]\n",
    "        j=j+1\n",
    "while j<len(nums):\n",
    "    nums[j]=0\n",
    "    j=j+1\n",
    "print(nums)        "
   ]
  },
  {
   "cell_type": "markdown",
   "id": "d4504876",
   "metadata": {},
   "source": [
    "output => [1, 3, 12, 0, 0]"
   ]
  },
  {
   "cell_type": "code",
   "execution_count": null,
   "id": "8e31abaa",
   "metadata": {},
   "outputs": [],
   "source": []
  }
 ],
 "metadata": {
  "kernelspec": {
   "display_name": "Python 3 (ipykernel)",
   "language": "python",
   "name": "python3"
  },
  "language_info": {
   "codemirror_mode": {
    "name": "ipython",
    "version": 3
   },
   "file_extension": ".py",
   "mimetype": "text/x-python",
   "name": "python",
   "nbconvert_exporter": "python",
   "pygments_lexer": "ipython3",
   "version": "3.11.5"
  }
 },
 "nbformat": 4,
 "nbformat_minor": 5
}
