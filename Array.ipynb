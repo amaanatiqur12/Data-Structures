{
 "cells": [
  {
   "cell_type": "markdown",
   "id": "2714e651",
   "metadata": {},
   "source": [
    "# Data Structure Array "
   ]
  },
  {
   "cell_type": "markdown",
   "id": "f40aef14",
   "metadata": {},
   "source": [
    "#### Problem 1 => https://leetcode.com/problems/move-zeroes/description/"
   ]
  },
  {
   "cell_type": "code",
   "execution_count": null,
   "id": "f15ebe28",
   "metadata": {
    "scrolled": false
   },
   "outputs": [],
   "source": [
    "nums = [0,1,0,3,12]\n",
    "j = 0\n",
    "for i in range(len(nums)):\n",
    "    if nums[i] != 0:\n",
    "        nums[i], nums[j] = nums[j], nums[i]\n",
    "        j += 1\n",
    "print(nums)        "
   ]
  },
  {
   "cell_type": "markdown",
   "id": "9a7a126e",
   "metadata": {},
   "source": [
    "output => [1, 3, 12, 0, 0]"
   ]
  },
  {
   "cell_type": "code",
   "execution_count": null,
   "id": "8836f384",
   "metadata": {},
   "outputs": [],
   "source": [
    "nums = [0,1,0,3,12]\n",
    "j = 0\n",
    "for i in range(len(nums)):\n",
    "    if nums[i]!=0:\n",
    "        nums[j]=nums[i]\n",
    "        j=j+1\n",
    "while j<len(nums):\n",
    "    nums[j]=0\n",
    "    j=j+1\n",
    "print(nums)        "
   ]
  },
  {
   "cell_type": "markdown",
   "id": "d4504876",
   "metadata": {},
   "source": [
    "output => [1, 3, 12, 0, 0]"
   ]
  },
  {
   "cell_type": "markdown",
   "id": "ce194698",
   "metadata": {},
   "source": [
    "#### Problem 2 => https://leetcode.com/problems/two-sum/"
   ]
  },
  {
   "cell_type": "code",
   "execution_count": 1,
   "id": "b583895e",
   "metadata": {},
   "outputs": [
    {
     "name": "stdout",
     "output_type": "stream",
     "text": [
      "[0, 1]\n"
     ]
    }
   ],
   "source": [
    "# Brute-force\n",
    "nums=[2,7,11,15]\n",
    "target=9\n",
    "z=[]\n",
    "for i,j in enumerate(nums):\n",
    "    for k in range(i+1,len(nums)):\n",
    "        if nums[i]+nums[k]==target:\n",
    "            z.append(i)\n",
    "            z.append(k)\n",
    "            break\n",
    "print(z)            "
   ]
  },
  {
   "cell_type": "markdown",
   "id": "bc1d6f3a",
   "metadata": {},
   "source": [
    "output => [0, 1]\n"
   ]
  },
  {
   "cell_type": "code",
   "execution_count": 3,
   "id": "730f700b",
   "metadata": {},
   "outputs": [
    {
     "name": "stdout",
     "output_type": "stream",
     "text": [
      "[1, 0]\n"
     ]
    }
   ],
   "source": [
    "# By using Dictionary\n",
    "nums=[2,7,11,15]\n",
    "target=9\n",
    "dic = {}\n",
    "for i,j in enumerate(nums):\n",
    "    diff =  target - j          \n",
    "    if diff in dic.keys():\n",
    "        print([i,dic[diff]])\n",
    "        break\n",
    "    dic[j]=i"
   ]
  },
  {
   "cell_type": "code",
   "execution_count": 4,
   "id": "16131069",
   "metadata": {},
   "outputs": [
    {
     "name": "stdout",
     "output_type": "stream",
     "text": [
      "[0, 1]\n"
     ]
    }
   ],
   "source": [
    "# Two Pointer\n",
    "nums=[2,7,11,15]\n",
    "value = [(values,i) for i, values in enumerate(nums)]\n",
    "value.sort()\n",
    "\n",
    "left = 0\n",
    "right = len(nums) - 1\n",
    "\n",
    "while True:\n",
    "    current_sum = value[left][0]+value[right][0]\n",
    "    if current_sum == target:\n",
    "        print([value[left][1] ,value[right][1]])\n",
    "        break\n",
    "    elif current_sum > target:\n",
    "        right -= 1 \n",
    "    elif current_sum < target:\n",
    "        left += 1          \n",
    "\n",
    " "
   ]
  },
  {
   "cell_type": "markdown",
   "id": "285ac21b",
   "metadata": {},
   "source": [
    "#### Problem 3 => https://leetcode.com/problems/best-time-to-buy-and-sell-stock/"
   ]
  },
  {
   "cell_type": "code",
   "execution_count": 10,
   "id": "9a681afd",
   "metadata": {},
   "outputs": [
    {
     "name": "stdout",
     "output_type": "stream",
     "text": [
      "5\n"
     ]
    }
   ],
   "source": [
    "prices=[7,1,5,3,6,4]\n",
    "Profit = -1\n",
    "pointer1 = 0\n",
    "pointer2 = 1\n",
    "for _ in range(len(prices) - 1 ):\n",
    "    if prices[pointer1] < prices[pointer2]:\n",
    "        if Profit < prices[pointer2] - prices[pointer1]:\n",
    "            Profit = prices[pointer2] - prices[pointer1]\n",
    "            \n",
    "    if prices[pointer1] > prices[pointer2]:\n",
    "        pointer1 = pointer2\n",
    "    pointer2 +=1\n",
    "    \n",
    "if Profit <=0:\n",
    "    print(0)\n",
    "else:\n",
    "    print(Profit)"
   ]
  },
  {
   "cell_type": "markdown",
   "id": "6829d5ac",
   "metadata": {},
   "source": [
    "#### Problem 4 => https://leetcode.com/problems/merge-sorted-array/"
   ]
  },
  {
   "cell_type": "code",
   "execution_count": 17,
   "id": "fc91cbb8",
   "metadata": {},
   "outputs": [
    {
     "name": "stdout",
     "output_type": "stream",
     "text": [
      "[1, 2, 2, 3, 5, 6]\n"
     ]
    }
   ],
   "source": [
    "#two-pointer technique (or three-pointer technique in this specific case)\n",
    "nums1 = [1,2,3,0,0,0]\n",
    "m = 3\n",
    "nums2 = [2,5,6]\n",
    "n = 3\n",
    "i=m-1\n",
    "j=n-1\n",
    "k=m+n-1\n",
    "while i>=0 and j>=0:\n",
    "    if nums1[i]<nums2[j]:\n",
    "        nums1[k]=nums2[j]\n",
    "        j-=1\n",
    "        k-=1\n",
    "    else:\n",
    "        nums1[k]=nums1[i]\n",
    "        i-=1\n",
    "        k-=1\n",
    "        \n",
    "while j>=0:\n",
    "    nums1[k]=nums2[j]\n",
    "    j-=1\n",
    "    k-=1\n",
    "print(nums1)    "
   ]
  },
  {
   "cell_type": "markdown",
   "id": "92ed7114",
   "metadata": {},
   "source": [
    "#### Problem 5 => https://leetcode.com/problems/best-time-to-buy-and-sell-stock-ii/"
   ]
  },
  {
   "cell_type": "code",
   "execution_count": 16,
   "id": "032ec085",
   "metadata": {},
   "outputs": [
    {
     "name": "stdout",
     "output_type": "stream",
     "text": [
      "7\n"
     ]
    }
   ],
   "source": [
    "#Two pointer Approch\n",
    "prices = [7,1,5,3,6,4]\n",
    "pointer1=prices[0]\n",
    "profit=0\n",
    "for i in range(1,len(prices)):\n",
    "    pointer2=prices[i]\n",
    "    if pointer1<pointer2:\n",
    "        profit+=pointer2-pointer1\n",
    "        pointer1=pointer2\n",
    "    elif pointer2<pointer1:\n",
    "        pointer1=pointer2    \n",
    "print(profit)        "
   ]
  },
  {
   "cell_type": "code",
   "execution_count": 20,
   "id": "041a079e",
   "metadata": {},
   "outputs": [
    {
     "name": "stdout",
     "output_type": "stream",
     "text": [
      "7\n"
     ]
    }
   ],
   "source": [
    "prices = [7,1,5,3,6,4]\n",
    "max_profit=0\n",
    "for i in range(len(prices)-1):\n",
    "    if prices[i+1]>prices[i]:\n",
    "        max_profit+=prices[i+1]-prices[i]\n",
    "print(max_profit) "
   ]
  },
  {
   "cell_type": "markdown",
   "id": "7d3e0717",
   "metadata": {},
   "source": [
    "#### Problem 6 => https://leetcode.com/problems/running-sum-of-1d-array"
   ]
  },
  {
   "cell_type": "code",
   "execution_count": 23,
   "id": "61322de3",
   "metadata": {},
   "outputs": [
    {
     "name": "stdout",
     "output_type": "stream",
     "text": [
      "[1, 3, 6, 10]\n"
     ]
    }
   ],
   "source": [
    "nums = [1,2,3,4]\n",
    "for i in range(1,len(nums)):\n",
    "    nums[i]=nums[i]+nums[i-1]\n",
    "print(nums)"
   ]
  },
  {
   "cell_type": "markdown",
   "id": "e90cbb49",
   "metadata": {},
   "source": [
    "#### Problem 7 https://leetcode.com/problems/find-pivot-index/"
   ]
  },
  {
   "cell_type": "code",
   "execution_count": 49,
   "id": "b1f9b754",
   "metadata": {},
   "outputs": [
    {
     "name": "stdout",
     "output_type": "stream",
     "text": [
      "5\n",
      "-1\n"
     ]
    }
   ],
   "source": [
    "nums=[-1,-1,0,1,1,0]\n",
    "arrayR=sum(nums)-nums[0]\n",
    "arrayL=0\n",
    "for i in range(1,len(nums)):\n",
    "    \n",
    "    if arrayR==arrayL:\n",
    "        print(i -1)\n",
    "    \n",
    "    arrayL+=nums[i-1]\n",
    "    arrayR-=nums[i]\n",
    "        \n",
    "if arrayR==arrayL:\n",
    "    print(len(nums)-1)\n",
    "        \n",
    "print(-1)"
   ]
  },
  {
   "cell_type": "code",
   "execution_count": null,
   "id": "7041339c",
   "metadata": {},
   "outputs": [],
   "source": []
  }
 ],
 "metadata": {
  "kernelspec": {
   "display_name": "Python 3 (ipykernel)",
   "language": "python",
   "name": "python3"
  },
  "language_info": {
   "codemirror_mode": {
    "name": "ipython",
    "version": 3
   },
   "file_extension": ".py",
   "mimetype": "text/x-python",
   "name": "python",
   "nbconvert_exporter": "python",
   "pygments_lexer": "ipython3",
   "version": "3.11.5"
  }
 },
 "nbformat": 4,
 "nbformat_minor": 5
}
