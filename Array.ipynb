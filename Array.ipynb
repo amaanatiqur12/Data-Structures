{
 "cells": [
  {
   "cell_type": "markdown",
   "id": "2ec2297b",
   "metadata": {},
   "source": [
    "# Data Structure Array "
   ]
  },
  {
   "cell_type": "markdown",
   "id": "fc0ff9b3",
   "metadata": {},
   "source": [
    "#### Problem 1 => https://leetcode.com/problems/move-zeroes/description/"
   ]
  },
  {
   "cell_type": "code",
   "execution_count": 3,
   "id": "8b1f5297",
   "metadata": {},
   "outputs": [
    {
     "name": "stdout",
     "output_type": "stream",
     "text": [
      "[1, 3, 12, 0, 0]\n"
     ]
    }
   ],
   "source": [
    "nums = [0,1,0,3,12]\n",
    "j = 0\n",
    "for i in range(len(nums)):\n",
    "    if nums[i] != 0:\n",
    "        nums[i], nums[j] = nums[j], nums[i]\n",
    "        j += 1\n",
    "print(nums)        "
   ]
  },
  {
   "cell_type": "code",
   "execution_count": 6,
   "id": "1b69ebf4",
   "metadata": {},
   "outputs": [
    {
     "name": "stdout",
     "output_type": "stream",
     "text": [
      "[1, 3, 12, 0, 0]\n"
     ]
    }
   ],
   "source": [
    "nums = [0,1,0,3,12]\n",
    "j = 0\n",
    "for i in range(len(nums)):\n",
    "    if nums[i]!=0:\n",
    "        nums[j]=nums[i]\n",
    "        j=j+1\n",
    "while j<len(nums):\n",
    "    nums[j]=0\n",
    "    j=j+1\n",
    "print(nums)        "
   ]
  },
  {
   "cell_type": "code",
   "execution_count": null,
   "id": "b96ab55d",
   "metadata": {},
   "outputs": [],
   "source": []
  }
 ],
 "metadata": {
  "kernelspec": {
   "display_name": "Python 3 (ipykernel)",
   "language": "python",
   "name": "python3"
  },
  "language_info": {
   "codemirror_mode": {
    "name": "ipython",
    "version": 3
   },
   "file_extension": ".py",
   "mimetype": "text/x-python",
   "name": "python",
   "nbconvert_exporter": "python",
   "pygments_lexer": "ipython3",
   "version": "3.11.5"
  }
 },
 "nbformat": 4,
 "nbformat_minor": 5
}
